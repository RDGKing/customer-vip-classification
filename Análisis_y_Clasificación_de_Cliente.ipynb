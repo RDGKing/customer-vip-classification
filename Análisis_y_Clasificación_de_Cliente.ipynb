{
  "nbformat": 4,
  "nbformat_minor": 0,
  "metadata": {
    "colab": {
      "provenance": []
    },
    "kernelspec": {
      "name": "python3",
      "display_name": "Python 3"
    },
    "language_info": {
      "name": "python"
    }
  },
  "cells": [
    {
      "cell_type": "markdown",
      "source": [
        "# Datamining - Clasificación de Clientes VIP vs Normal\n",
        "\n",
        "Dataset utilizado: Customer Personality Analysis\n",
        "Este dataset contiene información sobre clientes de una empresa minorista que vende productos como vino, carne, pescado, dulces y oro.\n"
      ],
      "metadata": {
        "id": "8ROUBm98wuIJ"
      }
    },
    {
      "cell_type": "markdown",
      "source": [
        "## Importación de librerias y carga de dataset"
      ],
      "metadata": {
        "id": "KlSfJvgcxXYu"
      }
    },
    {
      "cell_type": "code",
      "execution_count": null,
      "metadata": {
        "colab": {
          "base_uri": "https://localhost:8080/"
        },
        "id": "lSlhRaim_VJN",
        "outputId": "d45dd83e-f9e1-464f-e971-30ee729d0047"
      },
      "outputs": [
        {
          "output_type": "stream",
          "name": "stdout",
          "text": [
            "Dimensiones: (2240, 29)\n",
            "Columnas con valores nulos:\n",
            " ID                      0\n",
            "Year_Birth              0\n",
            "Education               0\n",
            "Marital_Status          0\n",
            "Income                 24\n",
            "Kidhome                 0\n",
            "Teenhome                0\n",
            "Dt_Customer             0\n",
            "Recency                 0\n",
            "MntWines                0\n",
            "MntFruits               0\n",
            "MntMeatProducts         0\n",
            "MntFishProducts         0\n",
            "MntSweetProducts        0\n",
            "MntGoldProds            0\n",
            "NumDealsPurchases       0\n",
            "NumWebPurchases         0\n",
            "NumCatalogPurchases     0\n",
            "NumStorePurchases       0\n",
            "NumWebVisitsMonth       0\n",
            "AcceptedCmp3            0\n",
            "AcceptedCmp4            0\n",
            "AcceptedCmp5            0\n",
            "AcceptedCmp1            0\n",
            "AcceptedCmp2            0\n",
            "Complain                0\n",
            "Z_CostContact           0\n",
            "Z_Revenue               0\n",
            "Response                0\n",
            "dtype: int64\n",
            "\n",
            "Columnas:\n",
            " Index(['ID', 'Year_Birth', 'Education', 'Marital_Status', 'Income', 'Kidhome',\n",
            "       'Teenhome', 'Dt_Customer', 'Recency', 'MntWines', 'MntFruits',\n",
            "       'MntMeatProducts', 'MntFishProducts', 'MntSweetProducts',\n",
            "       'MntGoldProds', 'NumDealsPurchases', 'NumWebPurchases',\n",
            "       'NumCatalogPurchases', 'NumStorePurchases', 'NumWebVisitsMonth',\n",
            "       'AcceptedCmp3', 'AcceptedCmp4', 'AcceptedCmp5', 'AcceptedCmp1',\n",
            "       'AcceptedCmp2', 'Complain', 'Z_CostContact', 'Z_Revenue', 'Response'],\n",
            "      dtype='object')\n"
          ]
        }
      ],
      "source": [
        "import pandas as pd\n",
        "import numpy as np\n",
        "from sklearn.model_selection import train_test_split\n",
        "from sklearn.linear_model import LogisticRegression\n",
        "from sklearn.tree import DecisionTreeClassifier\n",
        "from sklearn.metrics import accuracy_score, classification_report, confusion_matrix\n",
        "import matplotlib.pyplot as plt\n",
        "import seaborn as sns\n",
        "\n",
        "# Cargar el dataset\n",
        "df = pd.read_csv('/content/marketing_campaign.csv', sep=',')\n",
        "\n",
        "# Mostrar información inicial\n",
        "print(\"Dimensiones:\", df.shape)\n",
        "print(\"Columnas con valores nulos:\\n\", df.isnull().sum())\n",
        "print(\"\\nColumnas:\\n\", df.columns)"
      ]
    },
    {
      "cell_type": "markdown",
      "source": [
        "## Limpieza de datos"
      ],
      "metadata": {
        "id": "3KUnkO7Bxlp1"
      }
    },
    {
      "cell_type": "code",
      "source": [
        "# Reemplazar nulos en Income con la media\n",
        "df['Income'] = df['Income'].fillna(df['Income'].mean())\n",
        "print(\"Columnas con valores nulos:\\n\", df.isnull().sum())\n",
        "\n",
        "\n",
        "# Ver contenido de dataset para verificar correcto remplazo\n",
        "print(\"Primeras filas del dataset:\")\n",
        "print(df.head())\n",
        "\n",
        "print(\"\\nInformación del dataset:\")\n",
        "print(df.info())\n",
        "\n",
        "print(\"\\nEstadísticas descriptivas:\")\n",
        "print(df.describe())"
      ],
      "metadata": {
        "colab": {
          "base_uri": "https://localhost:8080/"
        },
        "collapsed": true,
        "id": "VGOGtdeqmN_W",
        "outputId": "e28ad9d2-1825-440f-95c1-b6d614c67ef8"
      },
      "execution_count": null,
      "outputs": [
        {
          "output_type": "stream",
          "name": "stdout",
          "text": [
            "Columnas con valores nulos:\n",
            " ID                     0\n",
            "Year_Birth             0\n",
            "Education              0\n",
            "Marital_Status         0\n",
            "Income                 0\n",
            "Kidhome                0\n",
            "Teenhome               0\n",
            "Dt_Customer            0\n",
            "Recency                0\n",
            "MntWines               0\n",
            "MntFruits              0\n",
            "MntMeatProducts        0\n",
            "MntFishProducts        0\n",
            "MntSweetProducts       0\n",
            "MntGoldProds           0\n",
            "NumDealsPurchases      0\n",
            "NumWebPurchases        0\n",
            "NumCatalogPurchases    0\n",
            "NumStorePurchases      0\n",
            "NumWebVisitsMonth      0\n",
            "AcceptedCmp3           0\n",
            "AcceptedCmp4           0\n",
            "AcceptedCmp5           0\n",
            "AcceptedCmp1           0\n",
            "AcceptedCmp2           0\n",
            "Complain               0\n",
            "Z_CostContact          0\n",
            "Z_Revenue              0\n",
            "Response               0\n",
            "dtype: int64\n",
            "Primeras filas del dataset:\n",
            "     ID  Year_Birth   Education Marital_Status   Income  Kidhome  Teenhome  \\\n",
            "0  5524        1957  Graduation         Single  58138.0        0         0   \n",
            "1  2174        1954  Graduation         Single  46344.0        1         1   \n",
            "2  4141        1965  Graduation       Together  71613.0        0         0   \n",
            "3  6182        1984  Graduation       Together  26646.0        1         0   \n",
            "4  5324        1981         PhD        Married  58293.0        1         0   \n",
            "\n",
            "  Dt_Customer  Recency  MntWines  ...  NumWebVisitsMonth  AcceptedCmp3  \\\n",
            "0  04/09/2012       58       635  ...                  7             0   \n",
            "1  08/03/2014       38        11  ...                  5             0   \n",
            "2  21/08/2013       26       426  ...                  4             0   \n",
            "3  10/02/2014       26        11  ...                  6             0   \n",
            "4  19/01/2014       94       173  ...                  5             0   \n",
            "\n",
            "   AcceptedCmp4  AcceptedCmp5  AcceptedCmp1  AcceptedCmp2  Complain  \\\n",
            "0             0             0             0             0         0   \n",
            "1             0             0             0             0         0   \n",
            "2             0             0             0             0         0   \n",
            "3             0             0             0             0         0   \n",
            "4             0             0             0             0         0   \n",
            "\n",
            "   Z_CostContact  Z_Revenue  Response  \n",
            "0              3         11         1  \n",
            "1              3         11         0  \n",
            "2              3         11         0  \n",
            "3              3         11         0  \n",
            "4              3         11         0  \n",
            "\n",
            "[5 rows x 29 columns]\n",
            "\n",
            "Información del dataset:\n",
            "<class 'pandas.core.frame.DataFrame'>\n",
            "RangeIndex: 2240 entries, 0 to 2239\n",
            "Data columns (total 29 columns):\n",
            " #   Column               Non-Null Count  Dtype  \n",
            "---  ------               --------------  -----  \n",
            " 0   ID                   2240 non-null   int64  \n",
            " 1   Year_Birth           2240 non-null   int64  \n",
            " 2   Education            2240 non-null   object \n",
            " 3   Marital_Status       2240 non-null   object \n",
            " 4   Income               2240 non-null   float64\n",
            " 5   Kidhome              2240 non-null   int64  \n",
            " 6   Teenhome             2240 non-null   int64  \n",
            " 7   Dt_Customer          2240 non-null   object \n",
            " 8   Recency              2240 non-null   int64  \n",
            " 9   MntWines             2240 non-null   int64  \n",
            " 10  MntFruits            2240 non-null   int64  \n",
            " 11  MntMeatProducts      2240 non-null   int64  \n",
            " 12  MntFishProducts      2240 non-null   int64  \n",
            " 13  MntSweetProducts     2240 non-null   int64  \n",
            " 14  MntGoldProds         2240 non-null   int64  \n",
            " 15  NumDealsPurchases    2240 non-null   int64  \n",
            " 16  NumWebPurchases      2240 non-null   int64  \n",
            " 17  NumCatalogPurchases  2240 non-null   int64  \n",
            " 18  NumStorePurchases    2240 non-null   int64  \n",
            " 19  NumWebVisitsMonth    2240 non-null   int64  \n",
            " 20  AcceptedCmp3         2240 non-null   int64  \n",
            " 21  AcceptedCmp4         2240 non-null   int64  \n",
            " 22  AcceptedCmp5         2240 non-null   int64  \n",
            " 23  AcceptedCmp1         2240 non-null   int64  \n",
            " 24  AcceptedCmp2         2240 non-null   int64  \n",
            " 25  Complain             2240 non-null   int64  \n",
            " 26  Z_CostContact        2240 non-null   int64  \n",
            " 27  Z_Revenue            2240 non-null   int64  \n",
            " 28  Response             2240 non-null   int64  \n",
            "dtypes: float64(1), int64(25), object(3)\n",
            "memory usage: 507.6+ KB\n",
            "None\n",
            "\n",
            "Estadísticas descriptivas:\n",
            "                 ID   Year_Birth         Income      Kidhome     Teenhome  \\\n",
            "count   2240.000000  2240.000000    2240.000000  2240.000000  2240.000000   \n",
            "mean    5592.159821  1968.805804   52247.251354     0.444196     0.506250   \n",
            "std     3246.662198    11.984069   25037.797168     0.538398     0.544538   \n",
            "min        0.000000  1893.000000    1730.000000     0.000000     0.000000   \n",
            "25%     2828.250000  1959.000000   35538.750000     0.000000     0.000000   \n",
            "50%     5458.500000  1970.000000   51741.500000     0.000000     0.000000   \n",
            "75%     8427.750000  1977.000000   68289.750000     1.000000     1.000000   \n",
            "max    11191.000000  1996.000000  666666.000000     2.000000     2.000000   \n",
            "\n",
            "           Recency     MntWines    MntFruits  MntMeatProducts  \\\n",
            "count  2240.000000  2240.000000  2240.000000      2240.000000   \n",
            "mean     49.109375   303.935714    26.302232       166.950000   \n",
            "std      28.962453   336.597393    39.773434       225.715373   \n",
            "min       0.000000     0.000000     0.000000         0.000000   \n",
            "25%      24.000000    23.750000     1.000000        16.000000   \n",
            "50%      49.000000   173.500000     8.000000        67.000000   \n",
            "75%      74.000000   504.250000    33.000000       232.000000   \n",
            "max      99.000000  1493.000000   199.000000      1725.000000   \n",
            "\n",
            "       MntFishProducts  ...  NumWebVisitsMonth  AcceptedCmp3  AcceptedCmp4  \\\n",
            "count      2240.000000  ...        2240.000000   2240.000000   2240.000000   \n",
            "mean         37.525446  ...           5.316518      0.072768      0.074554   \n",
            "std          54.628979  ...           2.426645      0.259813      0.262728   \n",
            "min           0.000000  ...           0.000000      0.000000      0.000000   \n",
            "25%           3.000000  ...           3.000000      0.000000      0.000000   \n",
            "50%          12.000000  ...           6.000000      0.000000      0.000000   \n",
            "75%          50.000000  ...           7.000000      0.000000      0.000000   \n",
            "max         259.000000  ...          20.000000      1.000000      1.000000   \n",
            "\n",
            "       AcceptedCmp5  AcceptedCmp1  AcceptedCmp2     Complain  Z_CostContact  \\\n",
            "count   2240.000000   2240.000000   2240.000000  2240.000000         2240.0   \n",
            "mean       0.072768      0.064286      0.013393     0.009375            3.0   \n",
            "std        0.259813      0.245316      0.114976     0.096391            0.0   \n",
            "min        0.000000      0.000000      0.000000     0.000000            3.0   \n",
            "25%        0.000000      0.000000      0.000000     0.000000            3.0   \n",
            "50%        0.000000      0.000000      0.000000     0.000000            3.0   \n",
            "75%        0.000000      0.000000      0.000000     0.000000            3.0   \n",
            "max        1.000000      1.000000      1.000000     1.000000            3.0   \n",
            "\n",
            "       Z_Revenue     Response  \n",
            "count     2240.0  2240.000000  \n",
            "mean        11.0     0.149107  \n",
            "std          0.0     0.356274  \n",
            "min         11.0     0.000000  \n",
            "25%         11.0     0.000000  \n",
            "50%         11.0     0.000000  \n",
            "75%         11.0     0.000000  \n",
            "max         11.0     1.000000  \n",
            "\n",
            "[8 rows x 26 columns]\n"
          ]
        }
      ]
    },
    {
      "cell_type": "markdown",
      "source": [
        "## Creación de columna VIP"
      ],
      "metadata": {
        "id": "LtEmIEWLxtPT"
      }
    },
    {
      "cell_type": "markdown",
      "source": [
        "Se crearon dos nuevas variables:\n",
        "\n",
        "- Total\\_Spent: suma del gasto en vinos, frutas, carnes, pescado, dulces y oro, como indicador del nivel de consumo.\n",
        "\n",
        "- Total\\_Purchases: suma de compras por internet, catálogo y tienda física, como medida de actividad.\n",
        "\n",
        "Dado que el dataset no incluye una etiqueta VIP, estas variables se usaron como base para generar una clasificación VIP en pasos posteriores."
      ],
      "metadata": {
        "id": "a76Le8nQxyoP"
      }
    },
    {
      "cell_type": "code",
      "source": [
        "# Crear columna de gasto total\n",
        "df['Total_Spent'] = df['MntWines'] + df['MntFruits'] + df['MntMeatProducts'] + \\\n",
        "                     df['MntFishProducts'] + df['MntSweetProducts'] + df['MntGoldProds']\n",
        "print(\"Total_Spent (primeras filas):\")\n",
        "print(df['Total_Spent'].head())\n",
        "\n",
        "# Crear columna de frecuencia total de compras\n",
        "df['Total_Purchases'] = df['NumWebPurchases'] + df['NumCatalogPurchases'] + df['NumStorePurchases']\n",
        "print(\"\\nTotal_Purchases (primeras filas):\")\n",
        "print(df['Total_Purchases'].head())"
      ],
      "metadata": {
        "colab": {
          "base_uri": "https://localhost:8080/"
        },
        "collapsed": true,
        "id": "ZPEuto5YnGCW",
        "outputId": "3cf664be-931e-4417-e97f-99fc1079e236"
      },
      "execution_count": null,
      "outputs": [
        {
          "output_type": "stream",
          "name": "stdout",
          "text": [
            "Total_Spent (primeras filas):\n",
            "0    1617\n",
            "1      27\n",
            "2     776\n",
            "3      53\n",
            "4     422\n",
            "Name: Total_Spent, dtype: int64\n",
            "\n",
            "Total_Purchases (primeras filas):\n",
            "0    22\n",
            "1     4\n",
            "2    20\n",
            "3     6\n",
            "4    14\n",
            "Name: Total_Purchases, dtype: int64\n"
          ]
        }
      ]
    },
    {
      "cell_type": "markdown",
      "source": [
        "Para etiquetar a los clientes como \"VIP\" o \"NORMAL\", se establecieron dos criterios:\n",
        "\n",
        "Total_Spent superior al percentil 75: identifica a quienes gastan más que el 75 % de los clientes.\n",
        "\n",
        "Total_Purchases superior al promedio: selecciona a quienes compran con mayor frecuencia que la media.\n",
        "\n",
        "Con base en estos umbrales, se creó una nueva columna llamada CATEGORIA. Los clientes que cumplen ambos criterios se clasifican como \"VIP\"; el resto, como \"NORMAL\"."
      ],
      "metadata": {
        "id": "JGIqAQqWyqzH"
      }
    },
    {
      "cell_type": "code",
      "source": [
        "# Definir clientes VIP (percentil 75 de gasto y compras por encima de la media)\n",
        "spent_threshold = df['Total_Spent'].quantile(0.75)\n",
        "purchase_threshold = df['Total_Purchases'].mean()\n",
        "print(f\"\\nUmbral para VIP - Gasto (percentil 75): {spent_threshold:.2f}\")\n",
        "print(f\"Umbral para VIP - Compras (media): {purchase_threshold:.2f}\")\n",
        "\n",
        "# Crear columna 'CATEGORIA'\n",
        "df['CATEGORIA'] = np.where((df['Total_Spent'] > spent_threshold) &\n",
        "                      (df['Total_Purchases'] > purchase_threshold), 'VIP', 'NORMAL')\n",
        "\n",
        "print(\"\\nEjemplos de clasificación de VIP (primeras filas):\")\n",
        "print(df[['Total_Spent', 'Total_Purchases', 'CATEGORIA']].head())"
      ],
      "metadata": {
        "colab": {
          "base_uri": "https://localhost:8080/"
        },
        "id": "QfdSftwonbEc",
        "outputId": "6db55cb8-d979-4329-b5cc-0ebf4df38d5a"
      },
      "execution_count": null,
      "outputs": [
        {
          "output_type": "stream",
          "name": "stdout",
          "text": [
            "\n",
            "Umbral para VIP - Gasto (percentil 75): 1045.50\n",
            "Umbral para VIP - Compras (media): 12.54\n",
            "\n",
            "Ejemplos de clasificación de VIP (primeras filas):\n",
            "   Total_Spent  Total_Purchases CATEGORIA\n",
            "0         1617               22       VIP\n",
            "1           27                4    NORMAL\n",
            "2          776               20    NORMAL\n",
            "3           53                6    NORMAL\n",
            "4          422               14    NORMAL\n"
          ]
        }
      ]
    },
    {
      "cell_type": "code",
      "source": [
        "# Contar cuántos clientes hay en cada categoría\n",
        "vip_counts = df['CATEGORIA'].value_counts()\n",
        "\n",
        "# Gráfico de pastel\n",
        "plt.figure(figsize=(6, 6))\n",
        "plt.pie(vip_counts,\n",
        "        labels=vip_counts.index,\n",
        "        autopct='%1.1f%%',\n",
        "        startangle=90,\n",
        "        colors=['red', 'blue'])\n",
        "\n",
        "plt.title('Distribución de Clientes VIP vs Normal')\n",
        "plt.axis('equal')  # Asegura que el gráfico sea circular\n",
        "plt.show()\n",
        "print(\"Cantidad de clientes por categoría:\\n\", vip_counts)"
      ],
      "metadata": {
        "colab": {
          "base_uri": "https://localhost:8080/",
          "height": 612
        },
        "id": "yzQXLVALpKfQ",
        "outputId": "5cb4892d-f71d-4206-8357-82950e34540b"
      },
      "execution_count": null,
      "outputs": [
        {
          "output_type": "display_data",
          "data": {
            "text/plain": [
              "<Figure size 600x600 with 1 Axes>"
            ],
            "image/png": "[encoded data removed]"
          },
          "metadata": {}
        },
        {
          "output_type": "stream",
          "name": "stdout",
          "text": [
            "Cantidad de clientes por categoría:\n",
            " CATEGORIA\n",
            "NORMAL    1695\n",
            "VIP        545\n",
            "Name: count, dtype: int64\n"
          ]
        }
      ]
    },
    {
      "cell_type": "markdown",
      "source": [
        "## Selección de características (features) para el modelo\n"
      ],
      "metadata": {
        "id": "p99XHjs-zwcZ"
      }
    },
    {
      "cell_type": "markdown",
      "source": [
        "Se creó una nueva variable llamada Age restando el año de nacimiento del cliente al año 2025 para determinar la edad del cliente.\n",
        "\n",
        "Luego, se seleccionaron tres características para entrenar el modelo:\n",
        "- Income: ingreso anual del cliente\n",
        "- Age: edad calculada\n",
        "- NumWebVisitsMonth: número de visitas al sitio web en el último mes"
      ],
      "metadata": {
        "id": "EBVnrszT0Ntv"
      }
    },
    {
      "cell_type": "code",
      "source": [
        "# Calcula edad (mejor que año de nacimiento)\n",
        "df['Age'] = 2025 - df['Year_Birth']\n",
        "\n",
        "features = ['Income', 'Age', 'NumWebVisitsMonth']\n",
        "X = df[features]\n",
        "y = df['CATEGORIA']"
      ],
      "metadata": {
        "id": "CqWAHKSJpsqc"
      },
      "execution_count": null,
      "outputs": []
    },
    {
      "cell_type": "code",
      "source": [
        "# Dividir los datos en conjuntos de entrenamiento y prueba (80% train, 20% test)\n",
        "X_train, X_test, y_train, y_test = train_test_split(X, y, test_size=0.2, random_state=42)\n",
        "\n",
        "print(f\"Tamaño del conjunto de entrenamiento: {X_train.shape[0]} muestras\")\n",
        "print(f\"Tamaño del conjunto de prueba: {X_test.shape[0]} muestras\")"
      ],
      "metadata": {
        "colab": {
          "base_uri": "https://localhost:8080/"
        },
        "id": "K01mHqyxpw_p",
        "outputId": "352d16d1-b76a-46da-9133-4101cc9ac59c"
      },
      "execution_count": null,
      "outputs": [
        {
          "output_type": "stream",
          "name": "stdout",
          "text": [
            "Tamaño del conjunto de entrenamiento: 1792 muestras\n",
            "Tamaño del conjunto de prueba: 448 muestras\n"
          ]
        }
      ]
    },
    {
      "cell_type": "markdown",
      "source": [
        "## Modelo"
      ],
      "metadata": {
        "id": "AmPmPU6J0lAo"
      }
    },
    {
      "cell_type": "markdown",
      "source": [
        "### Modelo de Regresión Logística\n",
        "Se creó un modelo de Regresión Logística con un máximo de 1000 iteraciones y semilla fija para reproducibilidad"
      ],
      "metadata": {
        "id": "7mD1FNGE1CvX"
      }
    },
    {
      "cell_type": "code",
      "source": [
        "## Modelo de Regresión Logística\n",
        "logreg = LogisticRegression(max_iter=1000, random_state=42)\n",
        "logreg.fit(X_train, y_train)\n",
        "\n",
        "# Predecir y evaluar\n",
        "y_pred_logreg = logreg.predict(X_test)\n",
        "\n",
        "print(\"\\n--- Resultados Regresión Logística ---\")\n",
        "print(f\"Exactitud (Accuracy): {accuracy_score(y_test, y_pred_logreg):.2%}\")\n",
        "print(\"\\nReporte de Clasificación:\")\n",
        "print(classification_report(y_test, y_pred_logreg))\n",
        "print(\"\\nMatriz de Confusión:\")\n",
        "print(confusion_matrix(y_test, y_pred_logreg))"
      ],
      "metadata": {
        "colab": {
          "base_uri": "https://localhost:8080/"
        },
        "id": "UH8XvlY3sbKj",
        "outputId": "a186d338-391a-4dcf-85dc-742591d34cb1"
      },
      "execution_count": null,
      "outputs": [
        {
          "output_type": "stream",
          "name": "stdout",
          "text": [
            "\n",
            "--- Resultados Regresión Logística ---\n",
            "Exactitud (Accuracy): 83.71%\n",
            "\n",
            "Reporte de Clasificación:\n",
            "              precision    recall  f1-score   support\n",
            "\n",
            "      NORMAL       0.87      0.92      0.89       329\n",
            "         VIP       0.73      0.61      0.66       119\n",
            "\n",
            "    accuracy                           0.84       448\n",
            "   macro avg       0.80      0.76      0.78       448\n",
            "weighted avg       0.83      0.84      0.83       448\n",
            "\n",
            "\n",
            "Matriz de Confusión:\n",
            "[[303  26]\n",
            " [ 47  72]]\n"
          ]
        }
      ]
    },
    {
      "cell_type": "markdown",
      "source": [
        "**Exactitud (Accuracy): 83.71%**\n",
        "El modelo clasifica correctamente al 84% de los clientes en total.\n",
        "\n",
        "**El reporte muestra qué tan bien funciona el modelo para cada clase:**\n",
        "\n",
        "* **Precision**: Porcentaje de predicciones correctas dentro de cada clase (87% para NORMAL, 73% para VIP).\n",
        "* **Recall**: Porcentaje de casos reales detectados correctamente (92% NORMAL, 61% VIP).\n",
        "* **F1-score**: Balance entre precision y recall; mejor si está cerca de 1 (0.89 NORMAL, 0.66 VIP).\n",
        "* **Support**: Cantidad de casos reales en cada clase (329 NORMAL, 119 VIP).\n",
        "\n",
        "**La matriz de confusión muestra:**\n",
        "\n",
        "* **303**: Clientes normales correctamente clasificados como normales (verdaderos positivos para NORMAL).\n",
        "* **26**: Clientes normales clasificados erróneamente como VIP (falsos positivos para VIP).\n",
        "* **47**: Clientes VIP clasificados erróneamente como normales (falsos negativos para VIP).\n",
        "* **72**: Clientes VIP correctamente clasificados como VIP (verdaderos positivos para VIP).\n",
        "\n",
        "El modelo acertó con **303 normales** y **72 VIP**.\n",
        "Se equivocó **26 veces** llamando VIP a un cliente normal y **47 veces** clasificando VIP como normal."
      ],
      "metadata": {
        "id": "8MTmQ6NK2Phm"
      }
    },
    {
      "cell_type": "code",
      "source": [
        "# Visualizar matriz de confusión\n",
        "plt.figure(figsize=(6,4))\n",
        "sns.heatmap(confusion_matrix(y_test, y_pred_logreg),\n",
        "            annot=True, fmt='d', cmap='Blues')\n",
        "plt.title('Matriz de Confusión - Regresión Logística')\n",
        "plt.xlabel('Predicho')\n",
        "plt.ylabel('Real')\n",
        "plt.show()"
      ],
      "metadata": {
        "colab": {
          "base_uri": "https://localhost:8080/",
          "height": 411
        },
        "id": "5-EMWTHlsdbb",
        "outputId": "387b8ee6-bfec-472a-8c40-f951d5acdc58"
      },
      "execution_count": null,
      "outputs": [
        {
          "output_type": "display_data",
          "data": {
            "text/plain": [
              "<Figure size 600x400 with 2 Axes>"
            ],
            "image/png": "[encoded data removed]"
          },
          "metadata": {}
        }
      ]
    },
    {
      "cell_type": "markdown",
      "source": [
        "### Modelo de Regresión Logística\n",
        "Se entrenó un modelo de Árbol de Decisión con profundidad máxima de 5 y semilla fija para asegurar reproducibilidad."
      ],
      "metadata": {
        "id": "_bmpwqjq3385"
      }
    },
    {
      "cell_type": "code",
      "source": [
        "## Modelo de Árbol de Decisión\n",
        "dtree = DecisionTreeClassifier(random_state=42, max_depth=5)\n",
        "dtree.fit(X_train, y_train)\n",
        "\n",
        "# Predecir y evaluar\n",
        "y_pred_dtree = dtree.predict(X_test)\n",
        "\n",
        "print(\"\\n--- Resultados Árbol de Decisión ---\")\n",
        "print(f\"Exactitud (Accuracy): {accuracy_score(y_test, y_pred_dtree):.2%}\")\n",
        "print(\"\\nReporte de Clasificación:\")\n",
        "print(classification_report(y_test, y_pred_dtree))\n",
        "print(\"\\nMatriz de Confusión:\")\n",
        "print(confusion_matrix(y_test, y_pred_dtree))"
      ],
      "metadata": {
        "id": "-cB459ucsmu0",
        "colab": {
          "base_uri": "https://localhost:8080/"
        },
        "outputId": "4b1066ae-b8c7-4a5b-9ec5-14eb1acb531f"
      },
      "execution_count": null,
      "outputs": [
        {
          "output_type": "stream",
          "name": "stdout",
          "text": [
            "\n",
            "--- Resultados Árbol de Decisión ---\n",
            "Exactitud (Accuracy): 85.04%\n",
            "\n",
            "Reporte de Clasificación:\n",
            "              precision    recall  f1-score   support\n",
            "\n",
            "      NORMAL       0.90      0.90      0.90       329\n",
            "         VIP       0.72      0.71      0.72       119\n",
            "\n",
            "    accuracy                           0.85       448\n",
            "   macro avg       0.81      0.81      0.81       448\n",
            "weighted avg       0.85      0.85      0.85       448\n",
            "\n",
            "\n",
            "Matriz de Confusión:\n",
            "[[296  33]\n",
            " [ 34  85]]\n"
          ]
        }
      ]
    },
    {
      "cell_type": "markdown",
      "source": [
        "**Exactitud (Accuracy): 85.04%%**\n",
        "El modelo clasifica correctamente al 85% de los clientes en total.\n",
        "\n",
        "**El reporte muestra qué tan bien funciona el modelo para cada clase:**\n",
        "\n",
        "* **Precision**: Porcentaje de predicciones correctas dentro de cada clase (90% para NORMAL, 72% para VIP).\n",
        "* **Recall**: Porcentaje de casos reales detectados correctamente (90% NORMAL, 71% VIP).\n",
        "* **F1-score**: Balance entre precision y recall; mejor si está cerca de 1 (0.90 NORMAL, 0.72 VIP).\n",
        "* **Support**: Cantidad de casos reales en cada clase (329 NORMAL, 119 VIP).\n",
        "\n",
        "**La matriz de confusión muestra:**\n",
        "* **296**: Clientes normales correctamente clasificados como normales (verdaderos positivos para NORMAL).\n",
        "* **33**: Clientes normales clasificados erróneamente como VIP (falsos positivos para VIP).\n",
        "* **34**: Clientes VIP clasificados erróneamente como normales (falsos negativos para VIP).\n",
        "* **85**: Clientes VIP correctamente clasificados como VIP (verdaderos positivos para VIP).\n",
        "\n",
        "El modelo acertó con **296 normales** y **85 VIP**.\n",
        "Se equivocó **33 veces** llamando VIP a un cliente normal y **34 veces** clasificando VIP como normal."
      ],
      "metadata": {
        "id": "jWs4lOMV4UPU"
      }
    },
    {
      "cell_type": "code",
      "source": [
        "plt.figure(figsize=(6,4))\n",
        "sns.heatmap(confusion_matrix(y_test, y_pred_dtree),\n",
        "            annot=True, fmt='d', cmap='Greens')\n",
        "plt.title('Matriz de Confusión - Árbol de Decisión')\n",
        "plt.xlabel('Predicho')\n",
        "plt.ylabel('Real')\n",
        "plt.show()"
      ],
      "metadata": {
        "colab": {
          "base_uri": "https://localhost:8080/",
          "height": 410
        },
        "id": "vmUk5hF8stIb",
        "outputId": "2ed5f501-229d-4e06-fee2-405f5301fcea"
      },
      "execution_count": null,
      "outputs": [
        {
          "output_type": "display_data",
          "data": {
            "text/plain": [
              "<Figure size 600x400 with 2 Axes>"
            ],
            "image/png": "[encoded data removed]"
          },
          "metadata": {}
        }
      ]
    },
    {
      "cell_type": "markdown",
      "source": [
        "Se creó una gráfica que muestra la importancia relativa de cada variable utilizada por el modelo de árbol de decisión. Esto significa que se visualiza qué tan decisiva fue cada característica al momento de clasificar a los clientes como VIP o normales. Entre mayor sea el porcentaje en la gráfica, mayor fue la influencia de esa variable en el modelo.\n",
        "\n",
        "\n",
        "\n",
        "\n",
        "\n",
        "\n",
        "\n",
        "\n"
      ],
      "metadata": {
        "id": "UzzZGEYa5o0s"
      }
    },
    {
      "cell_type": "code",
      "source": [
        "# Importancia de características\n",
        "feature_importance = pd.DataFrame({\n",
        "    'Feature': features,\n",
        "    'Importance': dtree.feature_importances_\n",
        "}).sort_values('Importance', ascending=False)\n",
        "# Pie chart\n",
        "plt.figure(figsize=(8, 8))\n",
        "plt.pie(feature_importance['Importance'],\n",
        "        labels=feature_importance['Feature'],\n",
        "        autopct='%1.1f%%',\n",
        "        startangle=140,\n",
        "        colors=plt.cm.tab20.colors)\n",
        "\n",
        "plt.title('Importancia de Características (Árbol de Decisión)')\n",
        "plt.axis('equal')  # Hace el pastel circular\n",
        "plt.tight_layout()\n",
        "plt.show()"
      ],
      "metadata": {
        "colab": {
          "base_uri": "https://localhost:8080/",
          "height": 807
        },
        "id": "K8kTEEo-svDY",
        "outputId": "fbdac7ee-eca2-4ab1-9168-81c4a970145e"
      },
      "execution_count": null,
      "outputs": [
        {
          "output_type": "display_data",
          "data": {
            "text/plain": [
              "<Figure size 800x800 with 1 Axes>"
            ],
            "image/png": "[encoded data removed]"
          },
          "metadata": {}
        }
      ]
    },
    {
      "cell_type": "markdown",
      "source": [
        "## INFORME DE RESULTADOS"
      ],
      "metadata": {
        "id": "n-qOz5z_55lr"
      }
    },
    {
      "cell_type": "markdown",
      "source": [
        "### PRECISIÓN DE LOS MODELOS"
      ],
      "metadata": {
        "id": "WHlncXsm6xPX"
      }
    },
    {
      "cell_type": "code",
      "source": [
        "plt.figure(figsize=(10, 5))\n",
        "modelos = ['Regresión Logística', 'Árbol de Decisión']\n",
        "precision = [accuracy_score(y_test, y_pred_logreg), accuracy_score(y_test, y_pred_dtree)]\n",
        "sns.barplot(x=modelos, y=precision, palette=['skyblue', 'lightgreen'])\n",
        "plt.title('Comparación de Precisión entre Modelos')\n",
        "plt.ylim(0, 1)\n",
        "plt.ylabel('Precisión')\n",
        "for i, v in enumerate(precision):\n",
        "    plt.text(i, v + 0.02, f\"{v:.2%}\", ha='center')\n",
        "plt.show()"
      ],
      "metadata": {
        "colab": {
          "base_uri": "https://localhost:8080/",
          "height": 599
        },
        "id": "Q70pNRI6v4eJ",
        "outputId": "947747ce-771e-461c-c2ff-a60989d57454"
      },
      "execution_count": null,
      "outputs": [
        {
          "output_type": "stream",
          "name": "stdout",
          "text": [
            "-----------1. PRECISIÓN DE LOS MODELOS------------\n"
          ]
        },
        {
          "output_type": "stream",
          "name": "stderr",
          "text": [
            "<ipython-input-239-6aca13e25024>:7: FutureWarning: \n",
            "\n",
            "Passing `palette` without assigning `hue` is deprecated and will be removed in v0.14.0. Assign the `x` variable to `hue` and set `legend=False` for the same effect.\n",
            "\n",
            "  sns.barplot(x=modelos, y=precision, palette=['skyblue', 'lightgreen'])\n"
          ]
        },
        {
          "output_type": "display_data",
          "data": {
            "text/plain": [
              "<Figure size 1000x500 with 1 Axes>"
            ],
            "image/png": "[encoded data removed]"
          },
          "metadata": {}
        }
      ]
    },
    {
      "cell_type": "markdown",
      "source": [
        "### EJEMPLOS DE CLASIFICACIÓN\n"
      ],
      "metadata": {
        "id": "kSvYFJgp60dv"
      }
    },
    {
      "cell_type": "code",
      "source": [
        "# Resetear índices para evitar problemas\n",
        "X_test_reset = X_test.reset_index(drop=True)\n",
        "y_test_reset = y_test.reset_index(drop=True)\n",
        "\n",
        "# Crear DataFrame de ejemplos\n",
        "ejemplos = pd.DataFrame({\n",
        "    'Income': X_test_reset['Income'],\n",
        "    'Age': X_test_reset['Age'],\n",
        "    'NumWebVisitsMonth': X_test_reset['NumWebVisitsMonth'],\n",
        "    'Real': y_test_reset,\n",
        "    'Predicción_LogReg': y_pred_logreg,\n",
        "    'Predicción_Arbol': y_pred_dtree\n",
        "}).sample(5, random_state=42)\n",
        "\n",
        "print(ejemplos.to_string(index=False))"
      ],
      "metadata": {
        "colab": {
          "base_uri": "https://localhost:8080/"
        },
        "id": "yE14XGbt6WB1",
        "outputId": "cc6676ff-3a53-4af5-c4f8-eb1685923191"
      },
      "execution_count": null,
      "outputs": [
        {
          "output_type": "stream",
          "name": "stdout",
          "text": [
            " Income  Age  NumWebVisitsMonth   Real Predicción_LogReg Predicción_Arbol\n",
            "27213.0   53                  8 NORMAL            NORMAL           NORMAL\n",
            "63684.0   55                  5    VIP            NORMAL           NORMAL\n",
            "71952.0   39                  4    VIP               VIP              VIP\n",
            "36807.0   71                  6 NORMAL            NORMAL           NORMAL\n",
            "38961.0   52                  7 NORMAL            NORMAL           NORMAL\n"
          ]
        }
      ]
    }
  ]
}